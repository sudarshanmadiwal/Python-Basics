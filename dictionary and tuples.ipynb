{
 "cells": [
  {
   "cell_type": "markdown",
   "metadata": {},
   "source": [
    "#### collection of $key:value$ pairs\n",
    "- In Dictionary, keys are unique and must be of immutable type.\n",
    "- the dictionary object is mutable\n",
    "- we cannot acess dictionary elements using index\n",
    "- the values in the dictionary accessed using keys.\n",
    "- dictionary isa mapping between set of keys and set of values\n",
    "- each key maps to value"
   ]
  },
  {
   "cell_type": "code",
   "execution_count": 1,
   "metadata": {},
   "outputs": [
    {
     "name": "stdout",
     "output_type": "stream",
     "text": [
      "<class 'dict'>\n"
     ]
    }
   ],
   "source": [
    "# empty dictionary\n",
    "d = {}\n",
    "print(type(d))"
   ]
  },
  {
   "cell_type": "code",
   "execution_count": 2,
   "metadata": {},
   "outputs": [
    {
     "name": "stdout",
     "output_type": "stream",
     "text": [
      "<class 'dict'>\n"
     ]
    }
   ],
   "source": [
    "d = dict()\n",
    "print(type(d))\n"
   ]
  },
  {
   "cell_type": "code",
   "execution_count": 3,
   "metadata": {},
   "outputs": [
    {
     "name": "stdout",
     "output_type": "stream",
     "text": [
      "{'mango': 'Fruit', 'banana': 'fruit', 'cucumber': 'veg'}\n"
     ]
    }
   ],
   "source": [
    "# to add items to dictionary, we can use square barackets\n",
    "d = {}\n",
    "d['mango'] = 'Fruit'\n",
    "d['banana'] = 'fruit'\n",
    "d['cucumber'] = 'veg'\n",
    "print(d)"
   ]
  },
  {
   "cell_type": "code",
   "execution_count": 4,
   "metadata": {},
   "outputs": [
    {
     "name": "stdout",
     "output_type": "stream",
     "text": [
      "{'mango': 'Fruit', 'banana': 15, 'cucumber': 'veg'}\n"
     ]
    }
   ],
   "source": [
    "d['banana'] = 15\n",
    "print(d)"
   ]
  },
  {
   "cell_type": "code",
   "execution_count": 5,
   "metadata": {},
   "outputs": [
    {
     "name": "stdout",
     "output_type": "stream",
     "text": [
      "{'Fruit': 'banana', 'veg': 'cucumber'}\n"
     ]
    }
   ],
   "source": [
    "d = {}\n",
    "d['Fruit'] = 'mango'\n",
    "d['Fruit']='banana'\n",
    "d['veg']='cucumber'\n",
    "print(d)"
   ]
  },
  {
   "cell_type": "code",
   "execution_count": 6,
   "metadata": {},
   "outputs": [
    {
     "name": "stdout",
     "output_type": "stream",
     "text": [
      "{'tom': 1998, 'jerry': 7847, 'bheem': 8219}\n"
     ]
    }
   ],
   "source": [
    "tel_dir = {'tom':1998,'jerry':7847}\n",
    "tel_dir['bheem']=8219\n",
    "print(tel_dir)"
   ]
  },
  {
   "cell_type": "code",
   "execution_count": 7,
   "metadata": {},
   "outputs": [
    {
     "name": "stdout",
     "output_type": "stream",
     "text": [
      "telephone number of tom is 1998\n"
     ]
    }
   ],
   "source": [
    "print('telephone number of tom is',tel_dir['tom'])"
   ]
  },
  {
   "cell_type": "code",
   "execution_count": 8,
   "metadata": {},
   "outputs": [
    {
     "ename": "KeyError",
     "evalue": "'micky'",
     "output_type": "error",
     "traceback": [
      "\u001b[1;31m---------------------------------------------------------------------------\u001b[0m",
      "\u001b[1;31mKeyError\u001b[0m                                  Traceback (most recent call last)",
      "\u001b[1;32m<ipython-input-8-e8e6fcc88314>\u001b[0m in \u001b[0;36m<module>\u001b[1;34m\u001b[0m\n\u001b[1;32m----> 1\u001b[1;33m \u001b[0mprint\u001b[0m\u001b[1;33m(\u001b[0m\u001b[1;34m'telephone number of micky  is'\u001b[0m\u001b[1;33m,\u001b[0m\u001b[0mtel_dir\u001b[0m\u001b[1;33m[\u001b[0m\u001b[1;34m'micky'\u001b[0m\u001b[1;33m]\u001b[0m\u001b[1;33m)\u001b[0m\u001b[1;33m\u001b[0m\u001b[1;33m\u001b[0m\u001b[0m\n\u001b[0m\u001b[0;32m      2\u001b[0m \u001b[1;31m# if a c=keyis not there in the dict and if wetry toaccess such key, then the keyerror\u001b[0m\u001b[1;33m\u001b[0m\u001b[1;33m\u001b[0m\u001b[1;33m\u001b[0m\u001b[0m\n",
      "\u001b[1;31mKeyError\u001b[0m: 'micky'"
     ]
    }
   ],
   "source": [
    "print('telephone number of micky  is',tel_dir['micky'])\n",
    "# if a c=keyis not there in the dict and if wetry toaccess such key, then the keyerror"
   ]
  },
  {
   "cell_type": "code",
   "execution_count": 9,
   "metadata": {},
   "outputs": [
    {
     "name": "stdout",
     "output_type": "stream",
     "text": [
      "3\n"
     ]
    }
   ],
   "source": [
    "# the len() function on dict object gives the number of key-valuepairs in that object.\n",
    "tel_dir = {'tom': 1998, 'jerry': 7847, 'bheem': 8219}\n",
    "print(len(tel_dir))\n"
   ]
  },
  {
   "cell_type": "code",
   "execution_count": null,
   "metadata": {},
   "outputs": [],
   "source": []
  },
  {
   "cell_type": "markdown",
   "metadata": {},
   "source": [
    "# Dictionary operations\n",
    "- Using $in$ key word\n",
    "- keys() method\n",
    "- values() method\n",
    "- items() method\n",
    "- get() method\n",
    "\n"
   ]
  },
  {
   "cell_type": "code",
   "execution_count": 10,
   "metadata": {},
   "outputs": [
    {
     "data": {
      "text/plain": [
       "True"
      ]
     },
     "execution_count": 10,
     "metadata": {},
     "output_type": "execute_result"
    }
   ],
   "source": [
    "tel_dir = {'tom': 1998, 'jerry': 7847, 'bheem': 8219}\n",
    "'jerry' in tel_dir\n",
    "\n"
   ]
  },
  {
   "cell_type": "code",
   "execution_count": 11,
   "metadata": {},
   "outputs": [
    {
     "name": "stdout",
     "output_type": "stream",
     "text": [
      "['tom', 'jerry', 'bheem']\n"
     ]
    }
   ],
   "source": [
    "tel_dir = {'tom': 1998, 'jerry': 7847, 'bheem': 8219}\n",
    "ls = list(tel_dir.keys())\n",
    "print(ls)"
   ]
  },
  {
   "cell_type": "code",
   "execution_count": 12,
   "metadata": {},
   "outputs": [
    {
     "name": "stdout",
     "output_type": "stream",
     "text": [
      "[1998, 7847, 8219]\n"
     ]
    }
   ],
   "source": [
    "tel_dir = {'tom': 1998, 'jerry': 7847, 'bheem': 8219}\n",
    "ls = list(tel_dir.values())\n",
    "print(ls)"
   ]
  },
  {
   "cell_type": "code",
   "execution_count": 13,
   "metadata": {},
   "outputs": [
    {
     "name": "stdout",
     "output_type": "stream",
     "text": [
      "[('tom', 1998), ('jerry', 7847), ('bheem', 8219)]\n"
     ]
    }
   ],
   "source": [
    "# The items() method returns a view object. \n",
    "# The view object contains the key-value pairs of the dictionary, as tuples in a list.\n",
    "tel_dir = {'tom': 1998, 'jerry': 7847, 'bheem': 8219}\n",
    "ls = list(tel_dir.items())\n",
    "print(ls)"
   ]
  },
  {
   "cell_type": "markdown",
   "metadata": {},
   "source": [
    "- get()ehich takes key and a default value as two arguments\n",
    "- if key is found in the dict, then the get() function returns corresponding value otherwise it returns default value"
   ]
  },
  {
   "cell_type": "code",
   "execution_count": 14,
   "metadata": {},
   "outputs": [
    {
     "data": {
      "text/plain": [
       "7847"
      ]
     },
     "execution_count": 14,
     "metadata": {},
     "output_type": "execute_result"
    }
   ],
   "source": [
    "tel_dir = {'tom': 1998, 'jerry': 7847, 'bheem': 8219}\n",
    "tel_dir.get('jerry')"
   ]
  },
  {
   "cell_type": "code",
   "execution_count": 15,
   "metadata": {},
   "outputs": [
    {
     "data": {
      "text/plain": [
       "0"
      ]
     },
     "execution_count": 15,
     "metadata": {},
     "output_type": "execute_result"
    }
   ],
   "source": [
    "tel_dir = {'tom': 1998, 'jerry': 7847, 'bheem': 8219}\n",
    "tel_dir.get('micky',0)"
   ]
  },
  {
   "cell_type": "markdown",
   "metadata": {},
   "source": [
    "# excercise\n",
    "- wpp to read astring . count number of occureces of each character in the string\n",
    "  use dictionary \n",
    "  - example: input the string hello \n",
    "  - {'h':1,'e':1,'l':2,'o':1}"
   ]
  },
  {
   "cell_type": "code",
   "execution_count": 16,
   "metadata": {},
   "outputs": [
    {
     "data": {
      "text/plain": [
       "6"
      ]
     },
     "execution_count": 16,
     "metadata": {},
     "output_type": "execute_result"
    }
   ],
   "source": [
    "stri = 'hello   llo llo'\n",
    "stri.count('l')"
   ]
  },
  {
   "cell_type": "code",
   "execution_count": 18,
   "metadata": {},
   "outputs": [
    {
     "name": "stdout",
     "output_type": "stream",
     "text": [
      "enter the string: welcome to python world\n",
      "{'w': 2, 'e': 2, 'l': 2, 'c': 1, 'o': 4, 'm': 1, 't': 2, 'p': 1, 'y': 1, 'h': 1, 'n': 1, 'r': 1, 'd': 1}\n"
     ]
    }
   ],
   "source": [
    "string= input('enter the string: ')\n",
    "d={}\n",
    "for i in string:\n",
    "    if i==\" \":\n",
    "        continue\n",
    "    else:\n",
    "        d[i] = string.count(i)\n",
    "print(d) "
   ]
  },
  {
   "cell_type": "code",
   "execution_count": 19,
   "metadata": {},
   "outputs": [
    {
     "name": "stdout",
     "output_type": "stream",
     "text": [
      "{'e': 3, 'n': 2, 't': 3, 'r': 2, ' ': 3, 'h': 1, 's': 1, 'i': 1, 'g': 1, ':': 1}\n"
     ]
    }
   ],
   "source": [
    "d={}\n",
    "string= 'enter the string: '\n",
    "for ch in string:\n",
    "    d[ch]=d.get(ch,0)+1\n",
    "print(d)    "
   ]
  },
  {
   "cell_type": "markdown",
   "metadata": {},
   "source": [
    "### use of copy in $dict$ "
   ]
  },
  {
   "cell_type": "code",
   "execution_count": 20,
   "metadata": {},
   "outputs": [
    {
     "name": "stdout",
     "output_type": "stream",
     "text": [
      "{'tom': 1998, 'jerry': 7847, 'bheem': 8219}\n"
     ]
    }
   ],
   "source": [
    "tel_dir = {'tom': 1998, 'jerry': 7847, 'bheem': 8219}\n",
    "d1 = tel_dir.copy()\n",
    "# d1=tel_dir\n",
    "print(d1)"
   ]
  },
  {
   "cell_type": "code",
   "execution_count": 21,
   "metadata": {},
   "outputs": [
    {
     "name": "stdout",
     "output_type": "stream",
     "text": [
      "2271688649208\n",
      "2271687813944\n"
     ]
    }
   ],
   "source": [
    "print(id(tel_dir))\n",
    "print(id(d1))"
   ]
  },
  {
   "cell_type": "markdown",
   "metadata": {},
   "source": [
    "# tuples\n",
    "- tuple is a collection of elements\n",
    "- tuple is immutable type. hence, it can as a key for dictionary\n",
    "- tuple allows multiple assignments in Python\n",
    "- tuple is iterable type.so, indexing and slicing area possible on tuples"
   ]
  },
  {
   "cell_type": "code",
   "execution_count": 22,
   "metadata": {},
   "outputs": [
    {
     "name": "stdout",
     "output_type": "stream",
     "text": [
      "<class 'tuple'>\n"
     ]
    }
   ],
   "source": [
    "#creating tuple\n",
    "t = ()\n",
    "print(type(t))"
   ]
  },
  {
   "cell_type": "code",
   "execution_count": 23,
   "metadata": {},
   "outputs": [
    {
     "name": "stdout",
     "output_type": "stream",
     "text": [
      "<class 'tuple'>\n"
     ]
    }
   ],
   "source": [
    "t = tuple()\n",
    "print(type(t))"
   ]
  },
  {
   "cell_type": "code",
   "execution_count": 24,
   "metadata": {},
   "outputs": [
    {
     "name": "stdout",
     "output_type": "stream",
     "text": [
      "(1, 2, 34)\n",
      "34\n"
     ]
    }
   ],
   "source": [
    "t = (1,2,34)\n",
    "print(t)\n",
    "print(t[2])# extracting by indexing"
   ]
  },
  {
   "cell_type": "code",
   "execution_count": 25,
   "metadata": {},
   "outputs": [
    {
     "name": "stdout",
     "output_type": "stream",
     "text": [
      "<class 'int'>\n"
     ]
    }
   ],
   "source": [
    "# trying to create tuple with single element\n",
    "t = (3) \n",
    "print(type(t))# will bwe treated as integer"
   ]
  },
  {
   "cell_type": "code",
   "execution_count": 26,
   "metadata": {},
   "outputs": [
    {
     "name": "stdout",
     "output_type": "stream",
     "text": [
      "<class 'tuple'>\n"
     ]
    }
   ],
   "source": [
    "t = (3,)\n",
    "print(type(t))"
   ]
  },
  {
   "cell_type": "code",
   "execution_count": 27,
   "metadata": {},
   "outputs": [
    {
     "name": "stdout",
     "output_type": "stream",
     "text": [
      "<class 'tuple'>\n"
     ]
    }
   ],
   "source": [
    "# paranthesis is not mandatory\n",
    "t = 1,2,3\n",
    "print(type(t))"
   ]
  },
  {
   "cell_type": "code",
   "execution_count": 28,
   "metadata": {},
   "outputs": [
    {
     "name": "stdout",
     "output_type": "stream",
     "text": [
      "(2, 3, 'kite', ['hello'])\n",
      "(1, 2, 3, 'kite', ['hello'])\n",
      "(1, 2, 3, 'kite')\n",
      "e\n"
     ]
    }
   ],
   "source": [
    "#tuple slicing\n",
    "t = (1,2,3,'kite',['hello'])\n",
    "print(t[1:])\n",
    "print(t[:])\n",
    "print(t[:-1])\n",
    "print(t[4][0][1])\n",
    "\n"
   ]
  },
  {
   "cell_type": "code",
   "execution_count": 29,
   "metadata": {},
   "outputs": [
    {
     "ename": "TypeError",
     "evalue": "'tuple' object does not support item assignment",
     "output_type": "error",
     "traceback": [
      "\u001b[1;31m---------------------------------------------------------------------------\u001b[0m",
      "\u001b[1;31mTypeError\u001b[0m                                 Traceback (most recent call last)",
      "\u001b[1;32m<ipython-input-29-80ccede7ba0f>\u001b[0m in \u001b[0;36m<module>\u001b[1;34m\u001b[0m\n\u001b[0;32m      1\u001b[0m \u001b[1;31m# tuples are immutable\u001b[0m\u001b[1;33m\u001b[0m\u001b[1;33m\u001b[0m\u001b[1;33m\u001b[0m\u001b[0m\n\u001b[0;32m      2\u001b[0m \u001b[0mt\u001b[0m \u001b[1;33m=\u001b[0m \u001b[1;33m(\u001b[0m\u001b[1;36m1\u001b[0m\u001b[1;33m,\u001b[0m\u001b[1;36m2\u001b[0m\u001b[1;33m,\u001b[0m\u001b[1;36m3\u001b[0m\u001b[1;33m,\u001b[0m\u001b[1;34m'kite'\u001b[0m\u001b[1;33m,\u001b[0m\u001b[1;33m[\u001b[0m\u001b[1;34m'hello'\u001b[0m\u001b[1;33m]\u001b[0m\u001b[1;33m)\u001b[0m\u001b[1;33m\u001b[0m\u001b[1;33m\u001b[0m\u001b[0m\n\u001b[1;32m----> 3\u001b[1;33m \u001b[0mt\u001b[0m\u001b[1;33m[\u001b[0m\u001b[1;36m2\u001b[0m\u001b[1;33m]\u001b[0m \u001b[1;33m=\u001b[0m \u001b[1;34m'floow'\u001b[0m\u001b[1;33m\u001b[0m\u001b[1;33m\u001b[0m\u001b[0m\n\u001b[0m",
      "\u001b[1;31mTypeError\u001b[0m: 'tuple' object does not support item assignment"
     ]
    }
   ],
   "source": [
    "# tuples are immutable\n",
    "t = (1,2,3,'kite',['hello'])\n",
    "t[2] = 'floow'\n"
   ]
  },
  {
   "cell_type": "code",
   "execution_count": 30,
   "metadata": {},
   "outputs": [
    {
     "name": "stdout",
     "output_type": "stream",
     "text": [
      "(1, 'floow', 3, 'kite', ['hello'])\n"
     ]
    }
   ],
   "source": [
    "t = t[0:1]+('floow',)+t[2:]\n",
    "print(t)"
   ]
  },
  {
   "cell_type": "code",
   "execution_count": 31,
   "metadata": {},
   "outputs": [
    {
     "name": "stdout",
     "output_type": "stream",
     "text": [
      "1\n",
      "2\n"
     ]
    }
   ],
   "source": [
    "# multiple assignment using tuples\n",
    "x,y = 1,2\n",
    "print(x)\n",
    "print(y)"
   ]
  },
  {
   "cell_type": "code",
   "execution_count": 32,
   "metadata": {},
   "outputs": [
    {
     "ename": "ValueError",
     "evalue": "not enough values to unpack (expected 3, got 2)",
     "output_type": "error",
     "traceback": [
      "\u001b[1;31m---------------------------------------------------------------------------\u001b[0m",
      "\u001b[1;31mValueError\u001b[0m                                Traceback (most recent call last)",
      "\u001b[1;32m<ipython-input-32-974f7f466a55>\u001b[0m in \u001b[0;36m<module>\u001b[1;34m\u001b[0m\n\u001b[1;32m----> 1\u001b[1;33m \u001b[0mx\u001b[0m\u001b[1;33m,\u001b[0m\u001b[0my\u001b[0m\u001b[1;33m,\u001b[0m\u001b[0mz\u001b[0m \u001b[1;33m=\u001b[0m \u001b[1;36m1\u001b[0m\u001b[1;33m,\u001b[0m\u001b[1;36m2\u001b[0m\u001b[1;33m\u001b[0m\u001b[1;33m\u001b[0m\u001b[0m\n\u001b[0m\u001b[0;32m      2\u001b[0m \u001b[0mprint\u001b[0m\u001b[1;33m(\u001b[0m\u001b[0mx\u001b[0m\u001b[1;33m)\u001b[0m\u001b[1;33m\u001b[0m\u001b[1;33m\u001b[0m\u001b[0m\n\u001b[0;32m      3\u001b[0m \u001b[0mprint\u001b[0m\u001b[1;33m(\u001b[0m\u001b[0my\u001b[0m\u001b[1;33m)\u001b[0m\u001b[1;33m\u001b[0m\u001b[1;33m\u001b[0m\u001b[0m\n",
      "\u001b[1;31mValueError\u001b[0m: not enough values to unpack (expected 3, got 2)"
     ]
    }
   ],
   "source": [
    "x,y,z = 1,2\n",
    "print(x)\n",
    "print(y)"
   ]
  },
  {
   "cell_type": "code",
   "execution_count": 33,
   "metadata": {},
   "outputs": [
    {
     "ename": "ValueError",
     "evalue": "too many values to unpack (expected 2)",
     "output_type": "error",
     "traceback": [
      "\u001b[1;31m---------------------------------------------------------------------------\u001b[0m",
      "\u001b[1;31mValueError\u001b[0m                                Traceback (most recent call last)",
      "\u001b[1;32m<ipython-input-33-51849e13c899>\u001b[0m in \u001b[0;36m<module>\u001b[1;34m\u001b[0m\n\u001b[1;32m----> 1\u001b[1;33m \u001b[0mx\u001b[0m\u001b[1;33m,\u001b[0m\u001b[0my\u001b[0m \u001b[1;33m=\u001b[0m \u001b[1;36m1\u001b[0m\u001b[1;33m,\u001b[0m\u001b[1;36m2\u001b[0m\u001b[1;33m,\u001b[0m\u001b[1;36m3\u001b[0m\u001b[1;33m\u001b[0m\u001b[1;33m\u001b[0m\u001b[0m\n\u001b[0m\u001b[0;32m      2\u001b[0m \u001b[0mprint\u001b[0m\u001b[1;33m(\u001b[0m\u001b[0mx\u001b[0m\u001b[1;33m)\u001b[0m\u001b[1;33m\u001b[0m\u001b[1;33m\u001b[0m\u001b[0m\n\u001b[0;32m      3\u001b[0m \u001b[0mprint\u001b[0m\u001b[1;33m(\u001b[0m\u001b[0my\u001b[0m\u001b[1;33m)\u001b[0m\u001b[1;33m\u001b[0m\u001b[1;33m\u001b[0m\u001b[0m\n",
      "\u001b[1;31mValueError\u001b[0m: too many values to unpack (expected 2)"
     ]
    }
   ],
   "source": [
    "x,y = 1,2,3\n",
    "print(x)\n",
    "print(y)"
   ]
  },
  {
   "cell_type": "code",
   "execution_count": 34,
   "metadata": {},
   "outputs": [
    {
     "name": "stdout",
     "output_type": "stream",
     "text": [
      "enter the value: 54\n",
      "enter the value: 45\n",
      "before swap:  54 45\n",
      "after swaping:  45 54\n"
     ]
    }
   ],
   "source": [
    "# swapping numbers\n",
    "x = int(input('enter the value: '))\n",
    "y = int(input('enter the value: '))\n",
    "print('before swap: ',x,y)\n",
    "x,y=y,x\n",
    "print('after swaping: ',x,y)"
   ]
  },
  {
   "cell_type": "code",
   "execution_count": 35,
   "metadata": {},
   "outputs": [
    {
     "name": "stdout",
     "output_type": "stream",
     "text": [
      "('h', 'i')\n"
     ]
    }
   ],
   "source": [
    "# creating tuple from string\n",
    "t = tuple('hi')\n",
    "print(t)"
   ]
  },
  {
   "cell_type": "code",
   "execution_count": 36,
   "metadata": {},
   "outputs": [
    {
     "data": {
      "text/plain": [
       "(1, 2, 3, 4, 55)"
      ]
     },
     "execution_count": 36,
     "metadata": {},
     "output_type": "execute_result"
    }
   ],
   "source": [
    "ls = [1,2,3,4,55]\n",
    "t = tuple(ls)\n",
    "t"
   ]
  },
  {
   "cell_type": "code",
   "execution_count": 38,
   "metadata": {},
   "outputs": [
    {
     "name": "stdout",
     "output_type": "stream",
     "text": [
      "enter a emailId: sudarshan@datascience.com\n",
      "Uname: sudarshan\n",
      "dName: datascience.com\n"
     ]
    }
   ],
   "source": [
    "# separating user name and domain\n",
    "\n",
    "email =  input('enter a emailId: ')\n",
    "# email = email.replace('@',' ')\n",
    "if '@' in email and email.count('@')==1:\n",
    "    uName,dName = email.split('@')\n",
    "    print('Uname:',uName)\n",
    "    print('dName:',dName)\n",
    "else:\n",
    "    print('invalid emailId!!')\n"
   ]
  },
  {
   "cell_type": "code",
   "execution_count": null,
   "metadata": {},
   "outputs": [],
   "source": []
  },
  {
   "cell_type": "code",
   "execution_count": 39,
   "metadata": {},
   "outputs": [
    {
     "name": "stdout",
     "output_type": "stream",
     "text": [
      "enter a string: hello welcome to python world\n",
      "the list is:\n",
      " [(5, 'hello'), (7, 'welcome'), (2, 'to'), (6, 'python'), (5, 'world')]\n",
      "[(7, 'welcome'), (6, 'python'), (5, 'world'), (5, 'hello'), (2, 'to')]\n",
      "the sorted list:\n",
      " ['welcome', 'python', 'world', 'hello', 'to']\n"
     ]
    }
   ],
   "source": [
    "string = input('enter a string: ')\n",
    "# lst  = string.spilt()\n",
    "t =[]\n",
    "for i in string.split():\n",
    "    t.append((len(i),i))\n",
    "print('the list is:\\n',t)\n",
    "t.sort(reverse =True)\n",
    "print(t)\n",
    "res = []\n",
    "for length,word in t:\n",
    "    res.append(word)\n",
    "print('the sorted list:\\n',res)    \n",
    "    "
   ]
  },
  {
   "cell_type": "code",
   "execution_count": 40,
   "metadata": {},
   "outputs": [
    {
     "name": "stdout",
     "output_type": "stream",
     "text": [
      "enter a string: python is a very good lanuage to learn\n",
      "['lanuage', 'python', 'learn', 'very', 'good', 'is', 'to', 'a']\n"
     ]
    }
   ],
   "source": [
    "string = input('enter a string: ')\n",
    "print(sorted(string.split(),key=len,reverse=True))\n",
    "\n"
   ]
  },
  {
   "cell_type": "code",
   "execution_count": null,
   "metadata": {},
   "outputs": [],
   "source": []
  },
  {
   "cell_type": "markdown",
   "metadata": {},
   "source": [
    "- Consider a telephone directorywhere name of a person is firstname-lastname pair\n",
    "- we need to have a dictionary, where key is a firstname-lastname pair value is the telephone number\n",
    "- ourjob is to assign telephone numberss to these keys"
   ]
  },
  {
   "cell_type": "code",
   "execution_count": 41,
   "metadata": {},
   "outputs": [
    {
     "name": "stdout",
     "output_type": "stream",
     "text": [
      "{('tom', 'cat'): 3452, ('jerry', 'mouse'): 4032, ('donald', 'trump'): 9404}\n"
     ]
    }
   ],
   "source": [
    "name = (('tom','cat'),('jerry','mouse'),('donald','trump'))\n",
    "numbers = [3452,4032,9404]\n",
    "\n",
    "tel_dir={}\n",
    "for i in range(len(numbers)):\n",
    "    tel_dir[name[i]]=numbers[i]\n",
    "print(tel_dir)"
   ]
  },
  {
   "cell_type": "code",
   "execution_count": 42,
   "metadata": {},
   "outputs": [
    {
     "name": "stdout",
     "output_type": "stream",
     "text": [
      "tom cat 3452\n",
      "jerry mouse 4032\n",
      "donald trump 9404\n"
     ]
    }
   ],
   "source": [
    "for f,l in tel_dir:\n",
    "    print(f,l,tel_dir[f,l])"
   ]
  },
  {
   "cell_type": "code",
   "execution_count": null,
   "metadata": {},
   "outputs": [],
   "source": []
  }
 ],
 "metadata": {
  "kernelspec": {
   "display_name": "Python 3",
   "language": "python",
   "name": "python3"
  },
  "language_info": {
   "codemirror_mode": {
    "name": "ipython",
    "version": 3
   },
   "file_extension": ".py",
   "mimetype": "text/x-python",
   "name": "python",
   "nbconvert_exporter": "python",
   "pygments_lexer": "ipython3",
   "version": "3.7.6"
  }
 },
 "nbformat": 4,
 "nbformat_minor": 2
}
