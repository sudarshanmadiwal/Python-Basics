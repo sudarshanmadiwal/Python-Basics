{
 "cells": [
  {
   "cell_type": "markdown",
   "metadata": {},
   "source": [
    "# USER defined functions\n",
    "- a set of instructions written for sollving a subproblem of an original problem\n",
    "- a peice of code which can work independently \n",
    "- can be called whenever needed\n",
    "- helps in re-usability of the code"
   ]
  },
  {
   "cell_type": "markdown",
   "metadata": {},
   "source": [
    "#### Function Defination\n",
    "- In Python a function i some reusable code that takes arguments as input, does some computation and then returns a results\n",
    "\n",
    "- We define a function using the def reserved word\\\n",
    "\n",
    "- we call/invoke the function by using the function name,parenthesis, and arguments in a expression"
   ]
  },
  {
   "cell_type": "markdown",
   "metadata": {},
   "source": [
    "#### There are twokinds of functions \n",
    "- Builtin function\n",
    "    - print(), input(), max(), min(), etc\n",
    "- Functions that we define our selves and then use"
   ]
  },
  {
   "cell_type": "code",
   "execution_count": 1,
   "metadata": {},
   "outputs": [
    {
     "name": "stdout",
     "output_type": "stream",
     "text": [
      "w\n"
     ]
    }
   ],
   "source": [
    "big = max(\"Hello world\")\n",
    "print(big)"
   ]
  },
  {
   "cell_type": "markdown",
   "metadata": {},
   "source": [
    "#### Our own Functions"
   ]
  },
  {
   "cell_type": "code",
   "execution_count": 2,
   "metadata": {},
   "outputs": [
    {
     "name": "stdout",
     "output_type": "stream",
     "text": [
      "hello sudarshan say heloo to world\n",
      "hello world!\n"
     ]
    }
   ],
   "source": [
    "def test():\n",
    "    print('hello world!')\n",
    "print('hello sudarshan say heloo to world')\n",
    "test()"
   ]
  },
  {
   "cell_type": "code",
   "execution_count": 5,
   "metadata": {},
   "outputs": [
    {
     "data": {
      "text/plain": [
       "14"
      ]
     },
     "execution_count": 5,
     "metadata": {},
     "output_type": "execute_result"
    }
   ],
   "source": [
    "def add(*numbers):\n",
    "    total = sum(numbers)\n",
    "    return total\n",
    "add(3,2,4,5)   "
   ]
  },
  {
   "cell_type": "code",
   "execution_count": 3,
   "metadata": {},
   "outputs": [
    {
     "name": "stdout",
     "output_type": "stream",
     "text": [
      "enter a number : 5\n",
      "enter a number : 5\n"
     ]
    },
    {
     "data": {
      "text/plain": [
       "10"
      ]
     },
     "execution_count": 3,
     "metadata": {},
     "output_type": "execute_result"
    }
   ],
   "source": [
    "def total(a,b):\n",
    "    c = a+b\n",
    "    return c\n",
    "x = int(input('enter a number : '))\n",
    "y = int(input('enter a number : '))\n",
    "total(x,y)"
   ]
  },
  {
   "cell_type": "code",
   "execution_count": 19,
   "metadata": {},
   "outputs": [
    {
     "name": "stdout",
     "output_type": "stream",
     "text": [
      "enter the number : 5\n",
      "factorial of 5 is 120\n"
     ]
    }
   ],
   "source": [
    "def fact(n):\n",
    "    f = 1\n",
    "    for i in range(1,n+1):\n",
    "        f=f*i\n",
    "    return f\n",
    "n = int(input('enter the number : '))\n",
    "factorial = fact(n)\n",
    "print('factorial of',n,'is',factorial)\n"
   ]
  },
  {
   "cell_type": "code",
   "execution_count": 20,
   "metadata": {},
   "outputs": [
    {
     "name": "stdout",
     "output_type": "stream",
     "text": [
      "enter the number : 5\n",
      "factorial of 5 is 120\n"
     ]
    }
   ],
   "source": [
    "def fact(n):\n",
    "    if n==0:\n",
    "        return 1\n",
    "    return n*fact(n-1)\n",
    "n = int(input('enter the number : '))\n",
    "factorial = fact(n)\n",
    "print('factorial of',n,'is',factorial)"
   ]
  },
  {
   "cell_type": "code",
   "execution_count": 32,
   "metadata": {},
   "outputs": [
    {
     "name": "stdout",
     "output_type": "stream",
     "text": [
      "enter the num: 10\n",
      "fibonacci of  10 is 55\n"
     ]
    }
   ],
   "source": [
    "def fib(n):\n",
    "    if n==0:\n",
    "        return 0\n",
    "    elif n ==1:\n",
    "        return 1\n",
    "    return fib(n-1) + fib(n-2)\n",
    "n = int(input('enter the num: '))\n",
    "fiboncci = fib(n)\n",
    "print('fibonacci of ',n,'is',fiboncci)"
   ]
  },
  {
   "cell_type": "code",
   "execution_count": 30,
   "metadata": {},
   "outputs": [
    {
     "name": "stdout",
     "output_type": "stream",
     "text": [
      "enter the num: 10\n",
      "0 1 1 2 3 5 8 13 21 34 "
     ]
    }
   ],
   "source": [
    "def fib(n):\n",
    "    if n==0:\n",
    "        return 0\n",
    "    elif n ==1:\n",
    "        return 1\n",
    "    return fib(n-1) + fib(n-2)\n",
    "n = int(input('enter the num: '))\n",
    "for i in range(n):\n",
    "    print(fib(i),end=' ')"
   ]
  },
  {
   "cell_type": "markdown",
   "metadata": {},
   "source": [
    "### Lamda Functions\n",
    "- A way to create small anonymous functions ,i.e functions without a name \n",
    "- These functions are throws-away functions they are just needed where they have been created\n",
    "- Mainly used in combination with the functionsfilter(), map(), reduce()\n",
    "- was added to python due to the demand from lisp programmers\n",
    "- functions which are not defined explicitily with  name are lambda functions"
   ]
  },
  {
   "cell_type": "code",
   "execution_count": 6,
   "metadata": {},
   "outputs": [
    {
     "data": {
      "text/plain": [
       "7"
      ]
     },
     "execution_count": 6,
     "metadata": {},
     "output_type": "execute_result"
    }
   ],
   "source": [
    "# define lamda functions\n",
    "sum = lambda x,y:x+y\n",
    "#invoke lambda function\n",
    "sum(3,4)"
   ]
  },
  {
   "cell_type": "markdown",
   "metadata": {},
   "source": [
    "#### Map function example\n",
    "- to apply some operations effectively on lists without loops and list comprehension\n"
   ]
  },
  {
   "cell_type": "code",
   "execution_count": 8,
   "metadata": {},
   "outputs": [
    {
     "name": "stdout",
     "output_type": "stream",
     "text": [
      "[4, 9, 16, 25, 36]\n"
     ]
    }
   ],
   "source": [
    "# to find sqares of every number in list\n",
    "list0 = [2,3,4,5,6]\n",
    "result = map(lambda a: a**2,list0)\n",
    "print(list(result))"
   ]
  },
  {
   "cell_type": "markdown",
   "metadata": {},
   "source": [
    "#### Filter functions \n",
    "- to filter the elements of a list conditionally"
   ]
  },
  {
   "cell_type": "code",
   "execution_count": 9,
   "metadata": {},
   "outputs": [
    {
     "name": "stdout",
     "output_type": "stream",
     "text": [
      "['chennai', 'kolkata']\n"
     ]
    }
   ],
   "source": [
    "# to fetch the cities whose length is grater than 6\n",
    "cities = ['Delhi','pune','chennai','kolkata']\n",
    "result = filter(lambda m : len(m)>6,cities)\n",
    "print(list(result))"
   ]
  },
  {
   "cell_type": "code",
   "execution_count": 10,
   "metadata": {},
   "outputs": [
    {
     "name": "stdout",
     "output_type": "stream",
     "text": [
      "[2, 4, 6, 8, 10, 12, 14, 16]\n"
     ]
    }
   ],
   "source": [
    "# to print even numbers from the list\n",
    "numbers = [1,2,3,4,5,6,7,8,9,10,11,12,13,14,15,16]\n",
    "result = filter(lambda x:x%2==0,numbers)\n",
    "print(list(result))"
   ]
  },
  {
   "cell_type": "markdown",
   "metadata": {},
   "source": [
    "#### Reduce fumctions\n",
    "- to applying pair-wise operationson elements of a list"
   ]
  },
  {
   "cell_type": "code",
   "execution_count": 12,
   "metadata": {},
   "outputs": [],
   "source": [
    "from functools import reduce"
   ]
  },
  {
   "cell_type": "code",
   "execution_count": 14,
   "metadata": {
    "scrolled": true
   },
   "outputs": [
    {
     "name": "stdout",
     "output_type": "stream",
     "text": [
      "25\n"
     ]
    }
   ],
   "source": [
    "# find sum of elements in list\n",
    "lis = [ 1 , 3, 5, 6, 2, 8]\n",
    "print (reduce(lambda x,y:x+y,lis)) "
   ]
  },
  {
   "cell_type": "code",
   "execution_count": 16,
   "metadata": {},
   "outputs": [
    {
     "name": "stdout",
     "output_type": "stream",
     "text": [
      "8\n"
     ]
    }
   ],
   "source": [
    "# largest number in list\n",
    "print(reduce(lambda x,y: x if (x>y) else y,lis))"
   ]
  },
  {
   "cell_type": "markdown",
   "metadata": {},
   "source": [
    "## 1.A positive integer m is a sum of squares if it can be written as k+l where k>0,k>0 and both k and l are perfect squares\n",
    "write a Python function sumofsquares(m) that takes an integer m returns True if m is a sum of squares and False otherwise. (if m is not positive, your function should return False)\n",
    "- Sample output\n",
    "- sumofsquares(41) returns True\n",
    "- sumofsquares(30) returns False\n",
    "- sumofsquares(17) returns True"
   ]
  },
  {
   "cell_type": "code",
   "execution_count": 17,
   "metadata": {},
   "outputs": [
    {
     "name": "stdout",
     "output_type": "stream",
     "text": [
      "k is 4 and l is 5\n"
     ]
    },
    {
     "data": {
      "text/plain": [
       "True"
      ]
     },
     "execution_count": 17,
     "metadata": {},
     "output_type": "execute_result"
    }
   ],
   "source": [
    "def sumofsquares(m):\n",
    "    k=1\n",
    "    while (k*k)<=m:\n",
    "        l=1\n",
    "        while (l*l)<=m:\n",
    "            if (k*k + l*l )==m:\n",
    "                print('k is',k,'and l is',l )\n",
    "                return True\n",
    "            l+=1\n",
    "        k+=1\n",
    "    return False    \n",
    "sumofsquares(41)   "
   ]
  },
  {
   "cell_type": "code",
   "execution_count": 18,
   "metadata": {},
   "outputs": [
    {
     "name": "stdout",
     "output_type": "stream",
     "text": [
      "enter a number: 41\n",
      "4 5\n"
     ]
    },
    {
     "data": {
      "text/plain": [
       "True"
      ]
     },
     "execution_count": 18,
     "metadata": {},
     "output_type": "execute_result"
    }
   ],
   "source": [
    "m = int(input('enter a number: '))\n",
    "def sumofsquares(m):\n",
    "    for k in range(1,int(m*0.5)):\n",
    "        for l in range(1,int(m*0.5)+1):\n",
    "            if ((k*k)+(l*l))==m:\n",
    "                print(k,l)\n",
    "                return True\n",
    "    return False\n",
    "\n",
    "sumofsquares(m)"
   ]
  },
  {
   "cell_type": "code",
   "execution_count": null,
   "metadata": {},
   "outputs": [],
   "source": []
  }
 ],
 "metadata": {
  "kernelspec": {
   "display_name": "Python 3",
   "language": "python",
   "name": "python3"
  },
  "language_info": {
   "codemirror_mode": {
    "name": "ipython",
    "version": 3
   },
   "file_extension": ".py",
   "mimetype": "text/x-python",
   "name": "python",
   "nbconvert_exporter": "python",
   "pygments_lexer": "ipython3",
   "version": "3.7.6"
  }
 },
 "nbformat": 4,
 "nbformat_minor": 2
}
