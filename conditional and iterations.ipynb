{
 "cells": [
  {
   "cell_type": "markdown",
   "metadata": {},
   "source": [
    "# conditional statements\n",
    "-  IF Statement\n",
    "- if else Statement\n",
    "- if elif Statement\n",
    "- nested if statement"
   ]
  },
  {
   "cell_type": "markdown",
   "metadata": {},
   "source": [
    "## if statement"
   ]
  },
  {
   "cell_type": "code",
   "execution_count": 1,
   "metadata": {},
   "outputs": [
    {
     "name": "stdout",
     "output_type": "stream",
     "text": [
      "enter a number:5\n",
      "True\n",
      "executed\n"
     ]
    }
   ],
   "source": [
    "x = int(input('enter a number:'))\n",
    "if x<30:\n",
    "    print(True)\n",
    "print('executed')    "
   ]
  },
  {
   "cell_type": "markdown",
   "metadata": {},
   "source": [
    "## IF ELSE Stament"
   ]
  },
  {
   "cell_type": "code",
   "execution_count": 2,
   "metadata": {},
   "outputs": [
    {
     "name": "stdout",
     "output_type": "stream",
     "text": [
      "enter a number:5\n",
      "Fail\n",
      "my example is over\n"
     ]
    }
   ],
   "source": [
    "x = int(input('enter a number:'))\n",
    "\n",
    "if x>35:\n",
    "    print('Pass')\n",
    "else:\n",
    "    print('Fail')\n",
    "print('my example is over')    "
   ]
  },
  {
   "cell_type": "markdown",
   "metadata": {},
   "source": [
    "# if elif Staement"
   ]
  },
  {
   "cell_type": "code",
   "execution_count": 3,
   "metadata": {},
   "outputs": [
    {
     "name": "stdout",
     "output_type": "stream",
     "text": [
      "enter a number:5\n",
      "fail\n",
      "my example is over\n"
     ]
    }
   ],
   "source": [
    "x = int(input('enter a number:'))\n",
    "if x>100 or x<0:\n",
    "    print('invalid')\n",
    "elif x>75:\n",
    "    print('distinction')    \n",
    "elif x>=60:\n",
    "    print('first class')\n",
    "elif x>=50:\n",
    "    print('second class')\n",
    "elif x>=40:\n",
    "    print('pass class')  \n",
    "else:\n",
    "    print('fail')\n",
    "print('my example is over')\n"
   ]
  },
  {
   "cell_type": "code",
   "execution_count": 4,
   "metadata": {},
   "outputs": [
    {
     "name": "stdout",
     "output_type": "stream",
     "text": [
      "enter a number55\n",
      "pass class\n"
     ]
    }
   ],
   "source": [
    "marks = int(input('enter a number'))\n",
    "if marks>=60:\n",
    "    if marks<=75:\n",
    "        print('first class')\n",
    "    else:\n",
    "        print('distincton')\n",
    "else:\n",
    "    print('pass class')"
   ]
  },
  {
   "cell_type": "markdown",
   "metadata": {},
   "source": [
    "###### "
   ]
  },
  {
   "cell_type": "markdown",
   "metadata": {},
   "source": [
    "# exercises\n",
    "- 1.write a program to prompt the user for number of hours worked and wage per hour.compute the gross pay\n",
    "- 2.write a program which prompts the user for celsius temperature,convert the temperature to Fahrenheit and print the converted temperature\n",
    "\n"
   ]
  },
  {
   "cell_type": "code",
   "execution_count": 5,
   "metadata": {},
   "outputs": [
    {
     "name": "stdout",
     "output_type": "stream",
     "text": [
      "enter the wage per hour:55\n",
      "enter the number of hours worked in a day:8\n",
      "gross pay =  160600\n"
     ]
    }
   ],
   "source": [
    "# 1hr = 30rs\n",
    "\n",
    "wage_per_hr = int(input('enter the wage per hour:'))\n",
    "hours_worked = int(input('enter the number of hours worked in a day:'))\n",
    "print('gross pay = ',wage_per_hr * hours_worked * 365)\n"
   ]
  },
  {
   "cell_type": "code",
   "execution_count": 6,
   "metadata": {},
   "outputs": [
    {
     "name": "stdout",
     "output_type": "stream",
     "text": [
      "enter the temperature in celsius :23\n",
      "celsius value in fahrenheit: 73.4\n"
     ]
    }
   ],
   "source": [
    "celsius = float(input('enter the temperature in celsius :'))\n",
    "print('celsius value in fahrenheit:',(celsius*1.8)+32)"
   ]
  },
  {
   "cell_type": "code",
   "execution_count": 7,
   "metadata": {},
   "outputs": [
    {
     "name": "stdout",
     "output_type": "stream",
     "text": [
      "hello\n",
      "0.0003147999999981721\n"
     ]
    }
   ],
   "source": [
    "import time\n",
    "t0 = time.perf_counter()\n",
    "print('hello')\n",
    "t1 = time.perf_counter() - t0\n",
    "print(t1)"
   ]
  },
  {
   "cell_type": "markdown",
   "metadata": {},
   "source": [
    "# Iterations methods\n",
    "- while loop\n",
    "- for loop"
   ]
  },
  {
   "cell_type": "code",
   "execution_count": 8,
   "metadata": {
    "scrolled": true
   },
   "outputs": [
    {
     "name": "stdout",
     "output_type": "stream",
     "text": [
      "i =  0\n",
      "i =  2\n",
      "i =  4\n",
      "i =  6\n",
      "i =  8\n",
      "i =  10\n",
      "exaample over\n"
     ]
    }
   ],
   "source": [
    "i  = 0\n",
    "while i<=10:\n",
    "    print('i = ',i)\n",
    "    i+=2\n",
    "print('exaample over')    "
   ]
  },
  {
   "cell_type": "code",
   "execution_count": null,
   "metadata": {},
   "outputs": [],
   "source": []
  },
  {
   "cell_type": "markdown",
   "metadata": {},
   "source": [
    "## range( ) Functions\n",
    "- range(start,end,step)\n",
    "- Iterates from start to end in steps\n",
    "- by default start is 0\n",
    "- steps is optional\n"
   ]
  },
  {
   "cell_type": "code",
   "execution_count": 9,
   "metadata": {},
   "outputs": [
    {
     "name": "stdout",
     "output_type": "stream",
     "text": [
      "0,1,2,3,4,5,6,7,8,9,10,"
     ]
    }
   ],
   "source": [
    "for i in range(11):\n",
    "    print(i,end=',')"
   ]
  },
  {
   "cell_type": "code",
   "execution_count": 10,
   "metadata": {},
   "outputs": [
    {
     "name": "stdout",
     "output_type": "stream",
     "text": [
      "1,2,3,4,5,6,7,8,9,10,11,12,13,14,15,16,17,18,19,20,21,22,23,24,25,26,27,28,29,30,31,32,33,34,35,36,37,38,39,40,41,42,43,44,45,46,47,48,49,"
     ]
    }
   ],
   "source": [
    "for i in range(1,50):\n",
    "    print(i,end=',')"
   ]
  },
  {
   "cell_type": "code",
   "execution_count": 11,
   "metadata": {},
   "outputs": [],
   "source": [
    "for i in range(2,2):\n",
    "    print(i)"
   ]
  },
  {
   "cell_type": "code",
   "execution_count": 12,
   "metadata": {},
   "outputs": [
    {
     "name": "stdout",
     "output_type": "stream",
     "text": [
      "enter a number :55\n",
      "number is not prime number\n",
      "5 times 11 is 55\n"
     ]
    }
   ],
   "source": [
    "num = int(input('enter a number :'))\n",
    "if num>1:\n",
    "    for i in range(2,num):\n",
    "        if (num%i) == 0:\n",
    "            print('number is not prime number')\n",
    "            print(i,'times',num//i,'is',num)\n",
    "            break\n",
    "    else:\n",
    "        print('num is prime number')\n",
    "        "
   ]
  },
  {
   "cell_type": "code",
   "execution_count": 13,
   "metadata": {},
   "outputs": [
    {
     "name": "stdout",
     "output_type": "stream",
     "text": [
      "( 0 0 0 ),( 0 0 1 ),( 0 1 0 ),( 0 1 1 ),( 0 2 0 ),( 0 2 1 ),( 1 0 0 ),( 1 0 1 ),( 1 1 0 ),( 1 1 1 ),( 1 2 0 ),( 1 2 1 ),( 2 0 0 ),( 2 0 1 ),( 2 1 0 ),( 2 1 1 ),( 2 2 0 ),( 2 2 1 ),"
     ]
    }
   ],
   "source": [
    "for i in range(3):\n",
    "    for j in range(3):\n",
    "        for k in range(2):\n",
    "            print('(',i,j,k,')',end=',')"
   ]
  },
  {
   "cell_type": "markdown",
   "metadata": {},
   "source": [
    "## early termination of loops using $break$"
   ]
  },
  {
   "cell_type": "code",
   "execution_count": 14,
   "metadata": {},
   "outputs": [
    {
     "name": "stdout",
     "output_type": "stream",
     "text": [
      "2,3,5,7,11,13,17,19,23,29,31,37,41,43,47,"
     ]
    }
   ],
   "source": [
    "# prime numbers\n",
    "for num in range(2,51):\n",
    "    for i in range(2,num):\n",
    "        if num%i==0:\n",
    "            break\n",
    "    else:\n",
    "        print(num,end=',')"
   ]
  },
  {
   "cell_type": "code",
   "execution_count": 15,
   "metadata": {},
   "outputs": [
    {
     "name": "stdout",
     "output_type": "stream",
     "text": [
      "enter a number7\n",
      "Game over!!\n"
     ]
    }
   ],
   "source": [
    "for i in range(10):\n",
    "    x = int(input('enter a number'))\n",
    "    if x%7==0:\n",
    "        break\n",
    "    print('you have entered ',x)\n",
    "print('Game over!!')    "
   ]
  },
  {
   "cell_type": "markdown",
   "metadata": {},
   "source": [
    "## Continue"
   ]
  },
  {
   "cell_type": "code",
   "execution_count": 17,
   "metadata": {},
   "outputs": [
    {
     "name": "stdout",
     "output_type": "stream",
     "text": [
      "enter a number to add: 5\n",
      "you have entered 5\n",
      "enter a number to add: 5\n",
      "you have entered 5\n",
      "enter a number to add: 55\n",
      "you have entered 55\n",
      "Total =  65\n",
      "Game overrrr@@\n"
     ]
    }
   ],
   "source": [
    "total = 0\n",
    "for i in range(3):\n",
    "    x = int(input('enter a number to add: '))\n",
    "    if x<0:\n",
    "        print('negattive numbers are not be considered')\n",
    "        continue\n",
    "    print('you have entered', x)\n",
    "    total+=x\n",
    "print('Total = ',total)\n",
    "print('Game overrrr@@')"
   ]
  },
  {
   "cell_type": "markdown",
   "metadata": {},
   "source": [
    "##### excercise\n",
    "\n",
    "- number is palindrome or not\n",
    "- find sum of digits of given number\n",
    "- number is prime or not\n",
    "- display prime numbers up to n\n",
    "- factorial of number\n",
    "- fibonacci numbers up to n\n",
    "- area of traiangle given three sides\n"
   ]
  },
  {
   "cell_type": "code",
   "execution_count": 18,
   "metadata": {},
   "outputs": [
    {
     "name": "stdout",
     "output_type": "stream",
     "text": [
      "enter a number : 5\n",
      "paindrome\n"
     ]
    }
   ],
   "source": [
    "#number is palindrome or not\n",
    "num = int(input('enter a number : '))\n",
    "temp = num\n",
    "rev = 0\n",
    "while(num>0):\n",
    "    dig = num%10\n",
    "    rev = rev*10+dig\n",
    "    num = num//10\n",
    "if temp == rev:\n",
    "    print('paindrome')\n",
    "else:\n",
    "    print('not palindrome')\n",
    "\n",
    "    "
   ]
  },
  {
   "cell_type": "code",
   "execution_count": 19,
   "metadata": {},
   "outputs": [
    {
     "data": {
      "text/plain": [
       "0"
      ]
     },
     "execution_count": 19,
     "metadata": {},
     "output_type": "execute_result"
    }
   ],
   "source": [
    "1//10"
   ]
  },
  {
   "cell_type": "code",
   "execution_count": 20,
   "metadata": {},
   "outputs": [
    {
     "name": "stdout",
     "output_type": "stream",
     "text": [
      "enter a number55\n",
      "10\n"
     ]
    }
   ],
   "source": [
    "# find sum of digits of given number\n",
    "num = int(input('enter a number'))\n",
    "total=0\n",
    "while num>0:\n",
    "    dig = num%10\n",
    "    total = total + dig\n",
    "    num = num//10\n",
    "print(total)\n",
    "    "
   ]
  },
  {
   "cell_type": "code",
   "execution_count": 21,
   "metadata": {},
   "outputs": [
    {
     "name": "stdout",
     "output_type": "stream",
     "text": [
      "enter a number 55\n",
      "number is not primre numbeer\n"
     ]
    }
   ],
   "source": [
    "# number is prime or not\n",
    "num = int(input('enter a number '))\n",
    "if num>1:\n",
    "    for i in range(2,num):\n",
    "        if num%i == 0:\n",
    "            print('number is not primre numbeer')\n",
    "            break\n",
    "    else:\n",
    "        print('number is prime number')\n"
   ]
  },
  {
   "cell_type": "code",
   "execution_count": 22,
   "metadata": {},
   "outputs": [
    {
     "name": "stdout",
     "output_type": "stream",
     "text": [
      "numbers in range of : 5\n",
      "2 3 "
     ]
    }
   ],
   "source": [
    "# display prime numbers up to n\n",
    "n = int(input ('numbers in range of : '))\n",
    "for num in range(n):\n",
    "    if num>1:\n",
    "        for i in range(2,num):\n",
    "            if num%i == 0:\n",
    "                break\n",
    "        else:\n",
    "            print(num,end=' ')"
   ]
  },
  {
   "cell_type": "code",
   "execution_count": 23,
   "metadata": {},
   "outputs": [
    {
     "name": "stdout",
     "output_type": "stream",
     "text": [
      "enter number 5\n",
      "120\n"
     ]
    }
   ],
   "source": [
    "\n",
    "# factorial of number\n",
    "number = int(input('enter number '))\n",
    "fact = 1\n",
    "if number>0:\n",
    "    for i in range(1,number+1):\n",
    "        fact= fact *i\n",
    "    print(fact)  \n",
    "elif number==0:\n",
    "    print('fact of ',number, 'is',1)\n",
    "else:\n",
    "    print('no factorial for neagative number')"
   ]
  },
  {
   "cell_type": "code",
   "execution_count": 24,
   "metadata": {},
   "outputs": [
    {
     "name": "stdout",
     "output_type": "stream",
     "text": [
      "0,1,1,2,3,5,8,13,21,34,"
     ]
    }
   ],
   "source": [
    "# fibonacci\n",
    "num0 = 0\n",
    "num1 = 1\n",
    "# print(num0)\n",
    "# print(num1)\n",
    "for i in range(10):\n",
    "    print(num0,end=',')\n",
    "    fib = num0 +  num1\n",
    "    num0 = num1\n",
    "    num1 = fib\n",
    "#     print(fib,end=',')      "
   ]
  },
  {
   "cell_type": "code",
   "execution_count": 25,
   "metadata": {},
   "outputs": [
    {
     "name": "stdout",
     "output_type": "stream",
     "text": [
      "enter the side 1 5\n",
      "enter the side 2 5\n",
      "enter the side 3 5\n",
      "area =  10.825317547305483\n"
     ]
    }
   ],
   "source": [
    "import math\n",
    "a = int(input('enter the side 1 '))\n",
    "b = int(input('enter the side 2 '))\n",
    "c = int(input('enter the side 3 '))\n",
    "if (a+b)>c and (b+c)>a and (c+a)>b:    #we use this because to check the traingle is formed or not (inequality rule)\n",
    "    s= (a+b+c)/2\n",
    "    area = math.sqrt(s*(s-a)*(s-b)*(s-c))\n",
    "    print('area = ',area)\n",
    "else:\n",
    "    print('triangle can not be formed')\n",
    "\n"
   ]
  },
  {
   "cell_type": "markdown",
   "metadata": {},
   "source": [
    "\n",
    "\n",
    "#### "
   ]
  },
  {
   "cell_type": "code",
   "execution_count": 26,
   "metadata": {},
   "outputs": [
    {
     "name": "stdout",
     "output_type": "stream",
     "text": [
      "enter the number : 5\n",
      "5 is a prime number\n"
     ]
    }
   ],
   "source": [
    "import math\n",
    "n = int(input('enter the number : '))\n",
    "flag = 0\n",
    "for i in range(2,int(math.sqrt(n))+1):\n",
    "    if n%i == 0:\n",
    "        flag=1\n",
    "        break\n",
    "if flag==0:\n",
    "    print(n,'is a prime number')\n",
    "else:\n",
    "    print(n,'is not prime number')\n",
    "    "
   ]
  },
  {
   "cell_type": "code",
   "execution_count": 27,
   "metadata": {},
   "outputs": [
    {
     "name": "stdout",
     "output_type": "stream",
     "text": [
      "enter the range: 5\n",
      "2\n",
      "3\n",
      "5\n"
     ]
    }
   ],
   "source": [
    "rang = int(input('enter the range: '))\n",
    "for num in range(2,rang+1):\n",
    "    flag = 0\n",
    "    for i in range(2,int(math.sqrt(num))+1):\n",
    "        if num%i == 0:\n",
    "            flag=1\n",
    "            break\n",
    "    if flag==0:\n",
    "        print(num)\n",
    "            \n",
    "        "
   ]
  },
  {
   "cell_type": "code",
   "execution_count": null,
   "metadata": {},
   "outputs": [],
   "source": []
  },
  {
   "cell_type": "code",
   "execution_count": null,
   "metadata": {},
   "outputs": [],
   "source": []
  }
 ],
 "metadata": {
  "kernelspec": {
   "display_name": "Python 3",
   "language": "python",
   "name": "python3"
  },
  "language_info": {
   "codemirror_mode": {
    "name": "ipython",
    "version": 3
   },
   "file_extension": ".py",
   "mimetype": "text/x-python",
   "name": "python",
   "nbconvert_exporter": "python",
   "pygments_lexer": "ipython3",
   "version": "3.7.6"
  }
 },
 "nbformat": 4,
 "nbformat_minor": 2
}
