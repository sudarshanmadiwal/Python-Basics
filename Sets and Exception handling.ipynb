{
 "cells": [
  {
   "cell_type": "markdown",
   "metadata": {},
   "source": [
    "# Set \n",
    "- set is a collection of elements\n",
    "- No duplicate entries are allowed\n",
    "- Set object can not be indexed\n",
    "- Set is an iterable object\n",
    "- sets mutable data structure"
   ]
  },
  {
   "cell_type": "code",
   "execution_count": 1,
   "metadata": {},
   "outputs": [],
   "source": [
    "# creating a simple set\n",
    "st = {'apple','Banana','Orange'}"
   ]
  },
  {
   "cell_type": "code",
   "execution_count": 5,
   "metadata": {},
   "outputs": [
    {
     "name": "stdout",
     "output_type": "stream",
     "text": [
      "{'Orange', 'apple', 'Banana'}\n"
     ]
    }
   ],
   "source": [
    "print(st)"
   ]
  },
  {
   "cell_type": "code",
   "execution_count": 2,
   "metadata": {},
   "outputs": [
    {
     "name": "stdout",
     "output_type": "stream",
     "text": [
      "<class 'set'>\n"
     ]
    }
   ],
   "source": [
    "print(type(st))"
   ]
  },
  {
   "cell_type": "code",
   "execution_count": 3,
   "metadata": {},
   "outputs": [],
   "source": [
    "s = set()"
   ]
  },
  {
   "cell_type": "code",
   "execution_count": 6,
   "metadata": {},
   "outputs": [
    {
     "name": "stdout",
     "output_type": "stream",
     "text": [
      "{'Cherry', 'Orange', 'apple', 'Banana'}\n"
     ]
    }
   ],
   "source": [
    "# add element to set\n",
    "st.add(\"Cherry\")\n",
    "print(st)"
   ]
  },
  {
   "cell_type": "code",
   "execution_count": null,
   "metadata": {},
   "outputs": [],
   "source": []
  },
  {
   "cell_type": "code",
   "execution_count": 7,
   "metadata": {},
   "outputs": [
    {
     "name": "stdout",
     "output_type": "stream",
     "text": [
      "{'Cherry', 'Orange', 'apple'}\n"
     ]
    }
   ],
   "source": [
    "# remove element from set\n",
    "st.remove('Banana')\n",
    "print(st)"
   ]
  },
  {
   "cell_type": "code",
   "execution_count": 8,
   "metadata": {},
   "outputs": [
    {
     "name": "stdout",
     "output_type": "stream",
     "text": [
      "{'orange', 'banana', 'papaya', 'cherry', 'apple'}\n"
     ]
    }
   ],
   "source": [
    "# adding more than one element odf data elements\n",
    "st = {'apple','banana','orange'}\n",
    "st.update(['cherry','papaya'])\n",
    "print(st)"
   ]
  },
  {
   "cell_type": "code",
   "execution_count": null,
   "metadata": {},
   "outputs": [],
   "source": [
    "# wp to eliminate repeated entries in a list anf keep single a copy"
   ]
  },
  {
   "cell_type": "code",
   "execution_count": 10,
   "metadata": {},
   "outputs": [
    {
     "name": "stdout",
     "output_type": "stream",
     "text": [
      "enter a number4\n",
      "enter a number4\n",
      "enter a number4\n",
      "enter a number5\n",
      "enter a number6\n",
      "[4, 4, 4, 5, 6]\n"
     ]
    }
   ],
   "source": [
    "lst = []\n",
    "for i in range(5):\n",
    "    a = int(input('enter a number'))\n",
    "    lst.append(a)\n",
    "print(lst)    "
   ]
  },
  {
   "cell_type": "code",
   "execution_count": 12,
   "metadata": {},
   "outputs": [
    {
     "data": {
      "text/plain": [
       "[4, 5, 6]"
      ]
     },
     "execution_count": 12,
     "metadata": {},
     "output_type": "execute_result"
    }
   ],
   "source": [
    "l1 = list(set(lst))\n",
    "l1"
   ]
  },
  {
   "cell_type": "code",
   "execution_count": 13,
   "metadata": {},
   "outputs": [
    {
     "name": "stdout",
     "output_type": "stream",
     "text": [
      "apple\n"
     ]
    }
   ],
   "source": [
    "# extracting any one elemntfrom the set using list\n",
    "st = {'apple','banana','orange'}\n",
    "item = list(st)[1]\n",
    "print(item)"
   ]
  },
  {
   "cell_type": "code",
   "execution_count": 14,
   "metadata": {},
   "outputs": [
    {
     "name": "stdout",
     "output_type": "stream",
     "text": [
      "banana\n",
      "apple\n",
      "orange\n"
     ]
    }
   ],
   "source": [
    "# set is an iterable object\n",
    "for i in st:\n",
    "    print(i)"
   ]
  },
  {
   "cell_type": "code",
   "execution_count": null,
   "metadata": {},
   "outputs": [],
   "source": []
  },
  {
   "cell_type": "markdown",
   "metadata": {},
   "source": [
    "## Exception Handling\n",
    "- runtime errors are known as exceptions\n",
    "- whenever an error occurs during runtime the system throws the error with system generated error message. the programmer must write a code to prevent this and display a proper message so thT THE user can understand the exact cause error \n",
    "- Note that run time errors canot be prevented most of the times\n",
    "- one can write remedial actions when such errors occurs\n",
    "- examples for run time error\n",
    "    - Division by zero\n",
    "    - index out of bound (while acessing a list ,string etc)\n",
    "    - key error (trying to extract non existing key from dictionary)\n",
    "    - file not fount(trying to opoen a file which is not there in current path \n",
    "    - database errors like connection issues, privilages issues etc\n",
    "- in python exceptions are hANDLED USING THE KEY words try and except\n",
    "- the try block includes the suspecious code that may cause run time error\n",
    "- except block includes the code indicating cause of the error remedial actions etc"
   ]
  },
  {
   "cell_type": "code",
   "execution_count": 1,
   "metadata": {},
   "outputs": [
    {
     "name": "stdout",
     "output_type": "stream",
     "text": [
      "enter a number 5\n",
      "enter a number 0\n",
      "division by zero not possible\n",
      "program over\n"
     ]
    }
   ],
   "source": [
    "a = int(input('enter a number '))\n",
    "b = int(input('enter a number '))\n",
    "try:\n",
    "    x = a/b\n",
    "    print('division is: ',x)\n",
    "except: \n",
    "    print('division by zero not possible')\n",
    "    exit()\n",
    "# print('division is: ',x)    \n",
    "print('program over')    "
   ]
  },
  {
   "cell_type": "code",
   "execution_count": 1,
   "metadata": {},
   "outputs": [
    {
     "name": "stdout",
     "output_type": "stream",
     "text": [
      "enter a number 5\n",
      "enter a number 0\n",
      "division by zero not possible\n",
      "enter a number 5\n",
      "division is:  1.0\n",
      "program over\n"
     ]
    }
   ],
   "source": [
    "a = int(input('enter a number '))\n",
    "while True:\n",
    "    b = int(input('enter a number '))\n",
    "    try: \n",
    "        x = a/b\n",
    "        break\n",
    "    except:\n",
    "        print('division by zero not possible')\n",
    "print('division is: ',x)    \n",
    "print('program over')"
   ]
  },
  {
   "cell_type": "code",
   "execution_count": null,
   "metadata": {},
   "outputs": [],
   "source": []
  }
 ],
 "metadata": {
  "kernelspec": {
   "display_name": "Python 3",
   "language": "python",
   "name": "python3"
  },
  "language_info": {
   "codemirror_mode": {
    "name": "ipython",
    "version": 3
   },
   "file_extension": ".py",
   "mimetype": "text/x-python",
   "name": "python",
   "nbconvert_exporter": "python",
   "pygments_lexer": "ipython3",
   "version": "3.7.6"
  }
 },
 "nbformat": 4,
 "nbformat_minor": 2
}
