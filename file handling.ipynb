{
 "cells": [
  {
   "cell_type": "markdown",
   "metadata": {},
   "source": [
    "# file handling \n",
    "- reading the data from the files is a part of programming\n",
    "- to read the daata from file in unstructured format(.txt) we will use the function open()\n",
    "- the open() function takes two arguments\n",
    "    - name of the file (with path,if required)\n",
    "    - mode of opening file\n",
    "- the purpose of opening a file is called as file opening mode \n",
    "    - r: for read (default)\n",
    "    - w: for write\n",
    "    - a: for append\n",
    "- the open() function returns a file through whcih we can perform operation on files\n",
    "- the filehandler works as an iterator and hence we can loop over it\n",
    "- the read() function:\n",
    "    - it reads a file and returns enitre content of the file as single string\n",
    "    - if the file has very huge content then storing the data as a single string is not advisible\n",
    "      as it may lead to shortate memory\n",
    "    - hence this function can be used only for smaller files\n",
    "- the close() function\n",
    "    - a file has been opened must be closed at the end of the program\n",
    "    - this will safeguard rthr file being corrupted and ensured proper maintenance."
   ]
  },
  {
   "cell_type": "code",
   "execution_count": 1,
   "metadata": {},
   "outputs": [
    {
     "name": "stdout",
     "output_type": "stream",
     "text": [
      "line number: 1 : The owners of a cafe in Pakistan received severe hate online after a video surfaced on social media that showed two women mocking the manager of the eatery for his English-speaking skills. \n",
      "\n",
      "line number: 2 : Journalist Raza Ahmad Rumi posted the clip on Twitter and described the incident as \"sad\", and also applauded the manager for \"putting up with this\".\n",
      "\n",
      "line number: 3 : The video begins with Uzma and Dia - owners of Cannoli by Cafe Soul in Islamabad - introducing themselves, seated at a table in the restaurant. \n",
      "\n",
      "line number: 4 : \"We were bored, so we would like to introduce you to our team,\" Uzma said as she summoned Owais, the manager of the eatery.\n",
      "total lines :  4\n"
     ]
    }
   ],
   "source": [
    "# python script  count lines\n",
    "fhand = open('filename.txt','r')\n",
    "count = 0\n",
    "for line in fhand:\n",
    "    count+=1\n",
    "    print(\"line number:\",count,':',line)\n",
    "print(\"total lines : \",count)\n"
   ]
  },
  {
   "cell_type": "code",
   "execution_count": 5,
   "metadata": {},
   "outputs": [
    {
     "name": "stdout",
     "output_type": "stream",
     "text": [
      "The owners of a cafe in Pakistan received severe hate online after a video surfaced on social media that showed two women mocking the manager of the eatery for his English-speaking skills. \n",
      "Journalist Raza Ahmad Rumi posted the clip on Twitter and described the incident as \"sad\", and also applauded the manager for \"putting up with this\".\n",
      "The video begins with Uzma and Dia - owners of Cannoli by Cafe Soul in Islamabad - introducing themselves, seated at a table in the restaurant. \n",
      "\"We were bored, so we would like to introduce you to our team,\" Uzma said as she summoned Owais, the manager of the eatery.\n",
      "------------------------------\n",
      "608\n",
      "------------------------------\n",
      "fe Soul in Islamabad - introducing themselves, seated at a table in the restaurant. \n",
      "\"We were bored, so we would like to introduce you to our team,\" Uzma said as she summoned Owais, the manager of the eatery.\n"
     ]
    }
   ],
   "source": [
    "# using read() function\n",
    "fhand = open('filename.txt','r')\n",
    "s = fhand.read()\n",
    "print(s)\n",
    "print('-'*30)\n",
    "print(len(s))\n",
    "print('-'*30)\n",
    "print(s[400:])"
   ]
  },
  {
   "cell_type": "code",
   "execution_count": 6,
   "metadata": {},
   "outputs": [
    {
     "name": "stdout",
     "output_type": "stream",
     "text": [
      "filr opened successfully\n",
      "line number 1 : The owners of a cafe in Pakistan received severe hate online after a video surfaced on social media that showed two women mocking the manager of the eatery for his English-speaking skills. \n",
      "190\n",
      "line number 2 : Journalist Raza Ahmad Rumi posted the clip on Twitter and described the incident as \"sad\", and also applauded the manager for \"putting up with this\".\n",
      "150\n",
      "line number 3 : The video begins with Uzma and Dia - owners of Cannoli by Cafe Soul in Islamabad - introducing themselves, seated at a table in the restaurant. \n",
      "145\n",
      "line number 4 : \"We were bored, so we would like to introduce you to our team,\" Uzma said as she summoned Owais, the manager of the eatery.123\n",
      "4\n"
     ]
    }
   ],
   "source": [
    "# exampkle to open a file and display the file contents\n",
    "try: \n",
    "    fopen = open('filename.txt','r')\n",
    "    print('filr opened successfully')\n",
    "except:\n",
    "    print('file canot be opned')\n",
    "    exit()\n",
    "c=0    \n",
    "for line in fopen:\n",
    "    c+=1\n",
    "    print('line number',c,':',line,end='') \n",
    "    print(len(line))\n",
    "print(c)    \n",
    "fopen.close()    "
   ]
  },
  {
   "cell_type": "code",
   "execution_count": 7,
   "metadata": {},
   "outputs": [
    {
     "name": "stdout",
     "output_type": "stream",
     "text": [
      "608\n",
      "the file contents are:  The owners of a cafe in Pakistan received severe hate online after a video surfaced on social media that showed two women mocking the manager of the eatery for his English-speaking skills. \n",
      "Journalist Raza Ahmad Rumi posted the clip on Twitter and described the incident as \"sad\", and also applauded the manager for \"putting up with this\".\n",
      "The video begins with Uzma and Dia - owners of Cannoli by Cafe Soul in Islamabad - introducing themselves, seated at a table in the restaurant. \n",
      "\"We were bored, so we would like to introduce you to our team,\" Uzma said as she summoned Owais, the manager of the eatery.\n",
      "thr first 20 chars of thr file are: The owners of a cafe in Pakist\n"
     ]
    }
   ],
   "source": [
    "try:\n",
    "    fopen = open('filename.txt')\n",
    "except:\n",
    "    print('file canot be opened')\n",
    "    exit()\n",
    "s = fopen.read()\n",
    "print(len(s))\n",
    "print('the file contents are: ',s)\n",
    "print('thr first 20 chars of thr file are:',s[:30])\n",
    "fopen.close()"
   ]
  },
  {
   "cell_type": "code",
   "execution_count": 9,
   "metadata": {},
   "outputs": [
    {
     "name": "stdout",
     "output_type": "stream",
     "text": [
      "enter a line: Former Indian captain MS Dhoni is once again ready to lead Chennai Super Kings (CSK) in the Indian Premier League (IPL 2021).\n",
      "enter a line: But nowadays he is busy with something else\n",
      "enter a line: Dhoni after retirement is completely occupied with building his organic farming venture.\n",
      "file writing over\n"
     ]
    }
   ],
   "source": [
    "fout = open('newfile.txt','w')\n",
    "for i in range(3):\n",
    "    line = input('enter a line: ')\n",
    "    fout.write(line+'\\n')\n",
    "print('file writing over')\n",
    "fout.close()"
   ]
  },
  {
   "cell_type": "code",
   "execution_count": null,
   "metadata": {},
   "outputs": [],
   "source": []
  },
  {
   "cell_type": "markdown",
   "metadata": {},
   "source": [
    "- 1 wpp to count number of words in the file\n",
    "- 2 wpp to search for a word and print only those lines which starts with the given word\n",
    "- 3 program to count number of lines ,word, chat=rs in a line\n",
    "- 4 wpp to copy content of one file into another"
   ]
  },
  {
   "cell_type": "code",
   "execution_count": 10,
   "metadata": {},
   "outputs": [
    {
     "name": "stdout",
     "output_type": "stream",
     "text": [
      "filr opened successfully\n",
      "line number 1 : The owners of a cafe in Pakistan received severe hate online after a video surfaced on social media that showed two women mocking the manager of the eatery for his English-speaking skills. \n",
      "line number 2 : Journalist Raza Ahmad Rumi posted the clip on Twitter and described the incident as \"sad\", and also applauded the manager for \"putting up with this\".\n",
      "line number 3 : The video begins with Uzma and Dia - owners of Cannoli by Cafe Soul in Islamabad - introducing themselves, seated at a table in the restaurant. \n",
      "line number 4 : \"We were bored, so we would like to introduce you to our team,\" Uzma said as she summoned Owais, the manager of the eatery.number of words in file:  107\n"
     ]
    }
   ],
   "source": [
    "# exampkle to open a file and display the file contents\n",
    "try: \n",
    "    fopen = open('filename.txt','r')\n",
    "    print('filr opened successfully')\n",
    "except:\n",
    "    print('file canot be opned')\n",
    "    exit()\n",
    "c=0   \n",
    "count=0\n",
    "for line in fopen:\n",
    "    c+=1\n",
    "    print('line number',c,':',line,end='') \n",
    "    count+=len(line.split())\n",
    "#     print('lentgth of line is: ',len(line))\n",
    "print('number of words in file: ',count)    \n",
    "# print(c) \n",
    "fopen.close()   "
   ]
  },
  {
   "cell_type": "code",
   "execution_count": 11,
   "metadata": {},
   "outputs": [
    {
     "name": "stdout",
     "output_type": "stream",
     "text": [
      "filr opened successfully\n",
      "enter a word The\n",
      "The owners of a cafe in Pakistan received severe hate online after a video surfaced on social media that showed two women mocking the manager of the eatery for his English-speaking skills. \n",
      "The video begins with Uzma and Dia - owners of Cannoli by Cafe Soul in Islamabad - introducing themselves, seated at a table in the restaurant. \n"
     ]
    }
   ],
   "source": [
    "try: \n",
    "    fopen = open('filename.txt','r')\n",
    "    print('filr opened successfully')\n",
    "    word_to_search = input('enter a word ')\n",
    "    for line in fopen:\n",
    "        if line.startswith(word_to_search):\n",
    "            print(line,end='')\n",
    "except:\n",
    "    print('file canot be opned')\n",
    "    exit()\n",
    "\n",
    "#     else:\n",
    "#         print('not starts with given word')\n",
    "# print(c) \n",
    "fopen.close() "
   ]
  },
  {
   "cell_type": "code",
   "execution_count": 12,
   "metadata": {},
   "outputs": [
    {
     "name": "stdout",
     "output_type": "stream",
     "text": [
      "filr opened successfully\n",
      "total number of lines are:  4\n",
      "number of words in file:  107\n",
      "number of chars in file:  608\n"
     ]
    }
   ],
   "source": [
    "try: \n",
    "    fopen = open('filename.txt','r')\n",
    "    print('filr opened successfully')\n",
    "    c=0   \n",
    "    count=0\n",
    "    chars=0\n",
    "    for line in fopen:\n",
    "        c+=1\n",
    "#         print('line number',c,':',line,end='') \n",
    "#         print('lentgth of line is: ',len(line))\n",
    "        chars+=len(line)\n",
    "        count+=len(line.split())\n",
    "        \n",
    "    print('total number of lines are: ',c)       \n",
    "    print('number of words in file: ',count)   \n",
    "    print('number of chars in file: ',chars)\n",
    "except:\n",
    "    print('file canot be opned')\n",
    "    exit()\n",
    "\n",
    "# print(c) \n",
    "fopen.close()"
   ]
  },
  {
   "cell_type": "code",
   "execution_count": null,
   "metadata": {},
   "outputs": [],
   "source": []
  },
  {
   "cell_type": "code",
   "execution_count": 13,
   "metadata": {},
   "outputs": [
    {
     "name": "stdout",
     "output_type": "stream",
     "text": [
      "file opened successfully\n",
      "file copied successfully\n"
     ]
    }
   ],
   "source": [
    "try: \n",
    "    fopen = open('filename.txt','r')\n",
    "    print('file opened successfully')\n",
    "    frite = open('neww.txt','w')\n",
    "    for line in fopen: \n",
    "        frite.write(line)\n",
    "except:\n",
    "    print('file canot be opned')\n",
    "    exit()\n",
    "\n",
    "\n",
    "print('file copied successfully')    \n",
    "frite.close()   \n",
    "fopen.close()"
   ]
  },
  {
   "cell_type": "code",
   "execution_count": null,
   "metadata": {},
   "outputs": [],
   "source": []
  },
  {
   "cell_type": "code",
   "execution_count": 14,
   "metadata": {},
   "outputs": [
    {
     "name": "stdout",
     "output_type": "stream",
     "text": [
      "enter a line: This is Thalaiva\n",
      "enter a line: jai sri ram\n",
      "enter a line: jai sivaji\n",
      "enter a line: jai krisna\n",
      "enter a line: jai bhavani\n",
      "file writing over\n"
     ]
    }
   ],
   "source": [
    "fout = open('newfile.txt','a')\n",
    "for i in range(5):\n",
    "    line = input('enter a line: ')\n",
    "    fout.write(line+'\\n')\n",
    "print('file writing over')\n",
    "fout.close()"
   ]
  },
  {
   "cell_type": "code",
   "execution_count": null,
   "metadata": {},
   "outputs": [],
   "source": []
  },
  {
   "cell_type": "code",
   "execution_count": 17,
   "metadata": {},
   "outputs": [
    {
     "name": "stdout",
     "output_type": "stream",
     "text": [
      "stephen.marquard@uct.ac.za\n",
      "louis@media.berkeley.edu\n",
      "zqian@umich.edu\n",
      "rjlowe@iupui.edu\n",
      "zqian@umich.edu\n",
      "rjlowe@iupui.edu\n",
      "cwen@iupui.edu\n",
      "cwen@iupui.edu\n",
      "gsilver@umich.edu\n",
      "gsilver@umich.edu\n",
      "zqian@umich.edu\n",
      "gsilver@umich.edu\n",
      "wagnermr@iupui.edu\n",
      "zqian@umich.edu\n",
      "antranig@caret.cam.ac.uk\n",
      "gopal.ramasammycook@gmail.com\n",
      "david.horwitz@uct.ac.za\n",
      "david.horwitz@uct.ac.za\n",
      "david.horwitz@uct.ac.za\n",
      "david.horwitz@uct.ac.za\n",
      "stephen.marquard@uct.ac.za\n",
      "louis@media.berkeley.edu\n",
      "louis@media.berkeley.edu\n",
      "ray@media.berkeley.edu\n",
      "cwen@iupui.edu\n",
      "cwen@iupui.edu\n",
      "cwen@iupui.edu\n",
      "There were 27 lines in the file with From as the first word\n"
     ]
    }
   ],
   "source": [
    "fname = \"mbox-short.txt\"\n",
    "fh = open(fname)\n",
    "\n",
    "count = 0\n",
    "\n",
    " \n",
    "\n",
    "for line in fh:\n",
    "\n",
    "    line.rstrip()\n",
    "\n",
    "    if line.startswith(\"From\"):\n",
    "\n",
    "        words=line.split()\n",
    "        if len(words)>2:\n",
    "            print(words[1])\n",
    "            count+=1\n",
    "\n",
    " \n",
    "print(\"There were\", count, \"lines in the file with From as the first word\")"
   ]
  },
  {
   "cell_type": "code",
   "execution_count": 21,
   "metadata": {},
   "outputs": [
    {
     "name": "stdout",
     "output_type": "stream",
     "text": [
      "enter a line: hi\n",
      "enter a line: hello\n",
      "enter a line: sudarshan\n",
      "enter a line: hi\n",
      "enter a line: good\n",
      "file writing over\n"
     ]
    }
   ],
   "source": [
    "fopen_obj = open('file_obj','w')\n",
    "for i in range(5):\n",
    "    line = input('enter a line: ')\n",
    "    fopen_obj.write(line+'\\n')\n",
    "print('file writing over')\n",
    "fopen_obj.close()"
   ]
  },
  {
   "cell_type": "code",
   "execution_count": 26,
   "metadata": {},
   "outputs": [],
   "source": [
    "def copy_file():\n",
    "    fopen = open('file_obj','r')\n",
    "    fwrite = open('output.txt','w')\n",
    "    for line in fopen:\n",
    "        fwrite.write(line)\n",
    "    fwrite.close()\n",
    "    fopen.close()\n",
    "    \n",
    "copy_file()"
   ]
  },
  {
   "cell_type": "markdown",
   "metadata": {},
   "source": [
    "### A dictionary can be used to count the freq of words in a file"
   ]
  },
  {
   "cell_type": "code",
   "execution_count": 27,
   "metadata": {},
   "outputs": [
    {
     "name": "stdout",
     "output_type": "stream",
     "text": [
      "file cannot be opened\n",
      "{'hi': 2, 'hello': 1, 'sudarshan': 1, 'good': 1}\n"
     ]
    }
   ],
   "source": [
    "try:\n",
    "    fopen = open('filename.txtl')\n",
    "except:\n",
    "    print(\"file cannot be opened\")\n",
    "    exit()\n",
    "d = dict()\n",
    "for line in fopen:\n",
    "    for word in line.split():\n",
    "        d[word]= d.get(word,0)+1\n",
    "        \n",
    "print(d)"
   ]
  },
  {
   "cell_type": "code",
   "execution_count": null,
   "metadata": {},
   "outputs": [],
   "source": []
  }
 ],
 "metadata": {
  "kernelspec": {
   "display_name": "Python 3",
   "language": "python",
   "name": "python3"
  },
  "language_info": {
   "codemirror_mode": {
    "name": "ipython",
    "version": 3
   },
   "file_extension": ".py",
   "mimetype": "text/x-python",
   "name": "python",
   "nbconvert_exporter": "python",
   "pygments_lexer": "ipython3",
   "version": "3.7.6"
  }
 },
 "nbformat": 4,
 "nbformat_minor": 2
}
